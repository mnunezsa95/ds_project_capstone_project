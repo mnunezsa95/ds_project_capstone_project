{
 "cells": [
  {
   "cell_type": "markdown",
   "id": "f63bce4b",
   "metadata": {},
   "source": [
    "# Final Project"
   ]
  },
  {
   "cell_type": "markdown",
   "id": "977b5aeb",
   "metadata": {},
   "source": [
    "## Project Description\n"
   ]
  },
  {
   "cell_type": "markdown",
   "id": "61ca7a8c",
   "metadata": {},
   "source": [
    "The telecom operator Interconnect would like to be able to forecast their churn of clients. If it's discovered that a user is planning to leave, they will be offered promotional codes and special plan options. Interconnect's marketing team has collected some of their clientele's personal data, including information about their plans and contracts.\n",
    "\n"
   ]
  },
  {
   "cell_type": "markdown",
   "id": "13239f82",
   "metadata": {},
   "source": [
    "**Interconnect's Services**\n",
    "\n",
    "Interconnect mainly provides two types of services:\n",
    "\n",
    "1. Landline communication. The telephone can be connected to several lines simultaneously.\n",
    "2. Internet. The network can be set up via a telephone line (DSL, *digital subscriber line*) or through a fiber optic cable.\n",
    "\n",
    "Some other services the company provides include:\n",
    "\n",
    "- Internet security: antivirus software (*DeviceProtection*) and a malicious website blocker (*OnlineSecurity*)\n",
    "- A dedicated technical support line (*TechSupport*)\n",
    "- Cloud file storage and data backup (*OnlineBackup*)\n",
    "- TV streaming (*StreamingTV*) and a movie directory (*StreamingMovies*)\n",
    "\n",
    "The clients can choose either a monthly payment or sign a 1- or 2-year contract. They can use various payment methods and receive an electronic invoice after a transaction.\n",
    "\n",
    "**Data Description**\n",
    "\n",
    "The data consists of files obtained from different sources:\n",
    "\n",
    "- `contract.csv` — contract information\n",
    "- `personal.csv` — the client's personal data\n",
    "- `internet.csv` — information about Internet services\n",
    "- `phone.csv` — information about telephone services\n",
    "\n",
    "In each file, the column `customerID` contains a unique code assigned to each client.\n",
    "\n",
    "The contract information is valid as of February 1, 2020."
   ]
  },
  {
   "cell_type": "markdown",
   "id": "af05a2b4",
   "metadata": {},
   "source": [
    "## Setup"
   ]
  },
  {
   "cell_type": "markdown",
   "id": "0f1c6d19",
   "metadata": {},
   "source": [
    "### Library Imports"
   ]
  },
  {
   "cell_type": "code",
   "execution_count": 33,
   "id": "5b8c6be9",
   "metadata": {},
   "outputs": [],
   "source": [
    "# Import libraries\n",
    "\n",
    "import pandas as pd\n",
    "import numpy as np\n",
    "import seaborn as sns\n",
    "import warnings\n",
    "\n",
    "from datetime import datetime\n",
    "from IPython.display import display\n",
    "from matplotlib import pyplot as plt\n",
    "from datetime import datetime\n",
    "\n",
    "# Gradient Boosting\n",
    "import lightgbm as lgb\n",
    "import xgboost as xgb\n",
    "\n",
    "# Sklearn\n",
    "from sklearn.utils import shuffle, resample\n",
    "from sklearn.model_selection import train_test_split, cross_val_score\n",
    "from sklearn.metrics import auc, roc_curve, roc_auc_score, f1_score, confusion_matrix, classification_report, precision_recall_curve, accuracy_score, ConfusionMatrixDisplay\n",
    "from sklearn.preprocessing import LabelEncoder, StandardScaler\n",
    "\n",
    "from sklearn.linear_model import LogisticRegression, LinearRegression\n",
    "from sklearn.ensemble import RandomForestClassifier\n",
    "from sklearn.tree import DecisionTreeClassifier\n",
    "from sklearn.dummy import DummyClassifier"
   ]
  },
  {
   "cell_type": "markdown",
   "id": "2c9ddc02",
   "metadata": {},
   "source": [
    "### Data Imports"
   ]
  },
  {
   "cell_type": "code",
   "execution_count": 3,
   "id": "c622f3c2",
   "metadata": {},
   "outputs": [
    {
     "name": "stdout",
     "output_type": "stream",
     "text": [
      "The datasets were imported successfully\n"
     ]
    }
   ],
   "source": [
    "# Load data -- provide feedback if unsuccessful\n",
    "\n",
    "try: \n",
    "    contract_df = pd.read_csv('/datasets/final_provider/contract.csv')\n",
    "    personal_df = pd.read_csv('/datasets/final_provider/personal.csv')\n",
    "    internet_df = pd.read_csv('/datasets/final_provider/internet.csv')\n",
    "    phone_df = pd.read_csv('/datasets/final_provider/phone.csv')\n",
    "except FileNotFoundError as e:\n",
    "    print(f'The datasets were not imported: Error {e}')\n",
    "else:\n",
    "    print('The datasets were imported successfully')\n",
    "    \n",
    "    # Turn off warning\n",
    "    warnings.filterwarnings('ignore')"
   ]
  },
  {
   "cell_type": "markdown",
   "id": "0797db9e",
   "metadata": {},
   "source": [
    "## Initial Data Exploration"
   ]
  },
  {
   "cell_type": "code",
   "execution_count": 31,
   "id": "7fea7287",
   "metadata": {
    "scrolled": false
   },
   "outputs": [
    {
     "name": "stdout",
     "output_type": "stream",
     "text": [
      "Dataset: contract_df\n",
      "\n",
      "<class 'pandas.core.frame.DataFrame'>\n",
      "RangeIndex: 7043 entries, 0 to 7042\n",
      "Data columns (total 8 columns):\n",
      " #   Column            Non-Null Count  Dtype  \n",
      "---  ------            --------------  -----  \n",
      " 0   customerID        7043 non-null   object \n",
      " 1   BeginDate         7043 non-null   object \n",
      " 2   EndDate           7043 non-null   object \n",
      " 3   Type              7043 non-null   object \n",
      " 4   PaperlessBilling  7043 non-null   object \n",
      " 5   PaymentMethod     7043 non-null   object \n",
      " 6   MonthlyCharges    7043 non-null   float64\n",
      " 7   TotalCharges      7043 non-null   object \n",
      "dtypes: float64(1), object(7)\n",
      "memory usage: 440.3+ KB\n"
     ]
    },
    {
     "data": {
      "text/html": [
       "<div>\n",
       "<style scoped>\n",
       "    .dataframe tbody tr th:only-of-type {\n",
       "        vertical-align: middle;\n",
       "    }\n",
       "\n",
       "    .dataframe tbody tr th {\n",
       "        vertical-align: top;\n",
       "    }\n",
       "\n",
       "    .dataframe thead th {\n",
       "        text-align: right;\n",
       "    }\n",
       "</style>\n",
       "<table border=\"1\" class=\"dataframe\">\n",
       "  <thead>\n",
       "    <tr style=\"text-align: right;\">\n",
       "      <th></th>\n",
       "      <th>customerID</th>\n",
       "      <th>BeginDate</th>\n",
       "      <th>EndDate</th>\n",
       "      <th>Type</th>\n",
       "      <th>PaperlessBilling</th>\n",
       "      <th>PaymentMethod</th>\n",
       "      <th>MonthlyCharges</th>\n",
       "      <th>TotalCharges</th>\n",
       "    </tr>\n",
       "  </thead>\n",
       "  <tbody>\n",
       "    <tr>\n",
       "      <th>0</th>\n",
       "      <td>7590-VHVEG</td>\n",
       "      <td>2020-01-01</td>\n",
       "      <td>No</td>\n",
       "      <td>Month-to-month</td>\n",
       "      <td>Yes</td>\n",
       "      <td>Electronic check</td>\n",
       "      <td>29.85</td>\n",
       "      <td>29.85</td>\n",
       "    </tr>\n",
       "    <tr>\n",
       "      <th>1</th>\n",
       "      <td>5575-GNVDE</td>\n",
       "      <td>2017-04-01</td>\n",
       "      <td>No</td>\n",
       "      <td>One year</td>\n",
       "      <td>No</td>\n",
       "      <td>Mailed check</td>\n",
       "      <td>56.95</td>\n",
       "      <td>1889.5</td>\n",
       "    </tr>\n",
       "    <tr>\n",
       "      <th>2</th>\n",
       "      <td>3668-QPYBK</td>\n",
       "      <td>2019-10-01</td>\n",
       "      <td>2019-12-01 00:00:00</td>\n",
       "      <td>Month-to-month</td>\n",
       "      <td>Yes</td>\n",
       "      <td>Mailed check</td>\n",
       "      <td>53.85</td>\n",
       "      <td>108.15</td>\n",
       "    </tr>\n",
       "    <tr>\n",
       "      <th>3</th>\n",
       "      <td>7795-CFOCW</td>\n",
       "      <td>2016-05-01</td>\n",
       "      <td>No</td>\n",
       "      <td>One year</td>\n",
       "      <td>No</td>\n",
       "      <td>Bank transfer (automatic)</td>\n",
       "      <td>42.30</td>\n",
       "      <td>1840.75</td>\n",
       "    </tr>\n",
       "    <tr>\n",
       "      <th>4</th>\n",
       "      <td>9237-HQITU</td>\n",
       "      <td>2019-09-01</td>\n",
       "      <td>2019-11-01 00:00:00</td>\n",
       "      <td>Month-to-month</td>\n",
       "      <td>Yes</td>\n",
       "      <td>Electronic check</td>\n",
       "      <td>70.70</td>\n",
       "      <td>151.65</td>\n",
       "    </tr>\n",
       "  </tbody>\n",
       "</table>\n",
       "</div>"
      ],
      "text/plain": [
       "   customerID   BeginDate              EndDate            Type  \\\n",
       "0  7590-VHVEG  2020-01-01                   No  Month-to-month   \n",
       "1  5575-GNVDE  2017-04-01                   No        One year   \n",
       "2  3668-QPYBK  2019-10-01  2019-12-01 00:00:00  Month-to-month   \n",
       "3  7795-CFOCW  2016-05-01                   No        One year   \n",
       "4  9237-HQITU  2019-09-01  2019-11-01 00:00:00  Month-to-month   \n",
       "\n",
       "  PaperlessBilling              PaymentMethod  MonthlyCharges TotalCharges  \n",
       "0              Yes           Electronic check           29.85        29.85  \n",
       "1               No               Mailed check           56.95       1889.5  \n",
       "2              Yes               Mailed check           53.85       108.15  \n",
       "3               No  Bank transfer (automatic)           42.30      1840.75  \n",
       "4              Yes           Electronic check           70.70       151.65  "
      ]
     },
     "metadata": {},
     "output_type": "display_data"
    },
    {
     "name": "stdout",
     "output_type": "stream",
     "text": [
      "\n",
      "---------------------------------------------\n",
      "Dataset: personal_df\n",
      "\n",
      "<class 'pandas.core.frame.DataFrame'>\n",
      "RangeIndex: 7043 entries, 0 to 7042\n",
      "Data columns (total 5 columns):\n",
      " #   Column         Non-Null Count  Dtype \n",
      "---  ------         --------------  ----- \n",
      " 0   customerID     7043 non-null   object\n",
      " 1   gender         7043 non-null   object\n",
      " 2   SeniorCitizen  7043 non-null   int64 \n",
      " 3   Partner        7043 non-null   object\n",
      " 4   Dependents     7043 non-null   object\n",
      "dtypes: int64(1), object(4)\n",
      "memory usage: 275.2+ KB\n"
     ]
    },
    {
     "data": {
      "text/html": [
       "<div>\n",
       "<style scoped>\n",
       "    .dataframe tbody tr th:only-of-type {\n",
       "        vertical-align: middle;\n",
       "    }\n",
       "\n",
       "    .dataframe tbody tr th {\n",
       "        vertical-align: top;\n",
       "    }\n",
       "\n",
       "    .dataframe thead th {\n",
       "        text-align: right;\n",
       "    }\n",
       "</style>\n",
       "<table border=\"1\" class=\"dataframe\">\n",
       "  <thead>\n",
       "    <tr style=\"text-align: right;\">\n",
       "      <th></th>\n",
       "      <th>customerID</th>\n",
       "      <th>gender</th>\n",
       "      <th>SeniorCitizen</th>\n",
       "      <th>Partner</th>\n",
       "      <th>Dependents</th>\n",
       "    </tr>\n",
       "  </thead>\n",
       "  <tbody>\n",
       "    <tr>\n",
       "      <th>0</th>\n",
       "      <td>7590-VHVEG</td>\n",
       "      <td>Female</td>\n",
       "      <td>0</td>\n",
       "      <td>Yes</td>\n",
       "      <td>No</td>\n",
       "    </tr>\n",
       "    <tr>\n",
       "      <th>1</th>\n",
       "      <td>5575-GNVDE</td>\n",
       "      <td>Male</td>\n",
       "      <td>0</td>\n",
       "      <td>No</td>\n",
       "      <td>No</td>\n",
       "    </tr>\n",
       "    <tr>\n",
       "      <th>2</th>\n",
       "      <td>3668-QPYBK</td>\n",
       "      <td>Male</td>\n",
       "      <td>0</td>\n",
       "      <td>No</td>\n",
       "      <td>No</td>\n",
       "    </tr>\n",
       "    <tr>\n",
       "      <th>3</th>\n",
       "      <td>7795-CFOCW</td>\n",
       "      <td>Male</td>\n",
       "      <td>0</td>\n",
       "      <td>No</td>\n",
       "      <td>No</td>\n",
       "    </tr>\n",
       "    <tr>\n",
       "      <th>4</th>\n",
       "      <td>9237-HQITU</td>\n",
       "      <td>Female</td>\n",
       "      <td>0</td>\n",
       "      <td>No</td>\n",
       "      <td>No</td>\n",
       "    </tr>\n",
       "  </tbody>\n",
       "</table>\n",
       "</div>"
      ],
      "text/plain": [
       "   customerID  gender  SeniorCitizen Partner Dependents\n",
       "0  7590-VHVEG  Female              0     Yes         No\n",
       "1  5575-GNVDE    Male              0      No         No\n",
       "2  3668-QPYBK    Male              0      No         No\n",
       "3  7795-CFOCW    Male              0      No         No\n",
       "4  9237-HQITU  Female              0      No         No"
      ]
     },
     "metadata": {},
     "output_type": "display_data"
    },
    {
     "name": "stdout",
     "output_type": "stream",
     "text": [
      "\n",
      "---------------------------------------------\n",
      "Dataset: internet_df\n",
      "\n",
      "<class 'pandas.core.frame.DataFrame'>\n",
      "RangeIndex: 5517 entries, 0 to 5516\n",
      "Data columns (total 8 columns):\n",
      " #   Column            Non-Null Count  Dtype \n",
      "---  ------            --------------  ----- \n",
      " 0   customerID        5517 non-null   object\n",
      " 1   InternetService   5517 non-null   object\n",
      " 2   OnlineSecurity    5517 non-null   object\n",
      " 3   OnlineBackup      5517 non-null   object\n",
      " 4   DeviceProtection  5517 non-null   object\n",
      " 5   TechSupport       5517 non-null   object\n",
      " 6   StreamingTV       5517 non-null   object\n",
      " 7   StreamingMovies   5517 non-null   object\n",
      "dtypes: object(8)\n",
      "memory usage: 344.9+ KB\n"
     ]
    },
    {
     "data": {
      "text/html": [
       "<div>\n",
       "<style scoped>\n",
       "    .dataframe tbody tr th:only-of-type {\n",
       "        vertical-align: middle;\n",
       "    }\n",
       "\n",
       "    .dataframe tbody tr th {\n",
       "        vertical-align: top;\n",
       "    }\n",
       "\n",
       "    .dataframe thead th {\n",
       "        text-align: right;\n",
       "    }\n",
       "</style>\n",
       "<table border=\"1\" class=\"dataframe\">\n",
       "  <thead>\n",
       "    <tr style=\"text-align: right;\">\n",
       "      <th></th>\n",
       "      <th>customerID</th>\n",
       "      <th>InternetService</th>\n",
       "      <th>OnlineSecurity</th>\n",
       "      <th>OnlineBackup</th>\n",
       "      <th>DeviceProtection</th>\n",
       "      <th>TechSupport</th>\n",
       "      <th>StreamingTV</th>\n",
       "      <th>StreamingMovies</th>\n",
       "    </tr>\n",
       "  </thead>\n",
       "  <tbody>\n",
       "    <tr>\n",
       "      <th>0</th>\n",
       "      <td>7590-VHVEG</td>\n",
       "      <td>DSL</td>\n",
       "      <td>No</td>\n",
       "      <td>Yes</td>\n",
       "      <td>No</td>\n",
       "      <td>No</td>\n",
       "      <td>No</td>\n",
       "      <td>No</td>\n",
       "    </tr>\n",
       "    <tr>\n",
       "      <th>1</th>\n",
       "      <td>5575-GNVDE</td>\n",
       "      <td>DSL</td>\n",
       "      <td>Yes</td>\n",
       "      <td>No</td>\n",
       "      <td>Yes</td>\n",
       "      <td>No</td>\n",
       "      <td>No</td>\n",
       "      <td>No</td>\n",
       "    </tr>\n",
       "    <tr>\n",
       "      <th>2</th>\n",
       "      <td>3668-QPYBK</td>\n",
       "      <td>DSL</td>\n",
       "      <td>Yes</td>\n",
       "      <td>Yes</td>\n",
       "      <td>No</td>\n",
       "      <td>No</td>\n",
       "      <td>No</td>\n",
       "      <td>No</td>\n",
       "    </tr>\n",
       "    <tr>\n",
       "      <th>3</th>\n",
       "      <td>7795-CFOCW</td>\n",
       "      <td>DSL</td>\n",
       "      <td>Yes</td>\n",
       "      <td>No</td>\n",
       "      <td>Yes</td>\n",
       "      <td>Yes</td>\n",
       "      <td>No</td>\n",
       "      <td>No</td>\n",
       "    </tr>\n",
       "    <tr>\n",
       "      <th>4</th>\n",
       "      <td>9237-HQITU</td>\n",
       "      <td>Fiber optic</td>\n",
       "      <td>No</td>\n",
       "      <td>No</td>\n",
       "      <td>No</td>\n",
       "      <td>No</td>\n",
       "      <td>No</td>\n",
       "      <td>No</td>\n",
       "    </tr>\n",
       "  </tbody>\n",
       "</table>\n",
       "</div>"
      ],
      "text/plain": [
       "   customerID InternetService OnlineSecurity OnlineBackup DeviceProtection  \\\n",
       "0  7590-VHVEG             DSL             No          Yes               No   \n",
       "1  5575-GNVDE             DSL            Yes           No              Yes   \n",
       "2  3668-QPYBK             DSL            Yes          Yes               No   \n",
       "3  7795-CFOCW             DSL            Yes           No              Yes   \n",
       "4  9237-HQITU     Fiber optic             No           No               No   \n",
       "\n",
       "  TechSupport StreamingTV StreamingMovies  \n",
       "0          No          No              No  \n",
       "1          No          No              No  \n",
       "2          No          No              No  \n",
       "3         Yes          No              No  \n",
       "4          No          No              No  "
      ]
     },
     "metadata": {},
     "output_type": "display_data"
    },
    {
     "name": "stdout",
     "output_type": "stream",
     "text": [
      "\n",
      "---------------------------------------------\n",
      "Dataset: phone_df\n",
      "\n",
      "<class 'pandas.core.frame.DataFrame'>\n",
      "RangeIndex: 6361 entries, 0 to 6360\n",
      "Data columns (total 2 columns):\n",
      " #   Column         Non-Null Count  Dtype \n",
      "---  ------         --------------  ----- \n",
      " 0   customerID     6361 non-null   object\n",
      " 1   MultipleLines  6361 non-null   object\n",
      "dtypes: object(2)\n",
      "memory usage: 99.5+ KB\n"
     ]
    },
    {
     "data": {
      "text/html": [
       "<div>\n",
       "<style scoped>\n",
       "    .dataframe tbody tr th:only-of-type {\n",
       "        vertical-align: middle;\n",
       "    }\n",
       "\n",
       "    .dataframe tbody tr th {\n",
       "        vertical-align: top;\n",
       "    }\n",
       "\n",
       "    .dataframe thead th {\n",
       "        text-align: right;\n",
       "    }\n",
       "</style>\n",
       "<table border=\"1\" class=\"dataframe\">\n",
       "  <thead>\n",
       "    <tr style=\"text-align: right;\">\n",
       "      <th></th>\n",
       "      <th>customerID</th>\n",
       "      <th>MultipleLines</th>\n",
       "    </tr>\n",
       "  </thead>\n",
       "  <tbody>\n",
       "    <tr>\n",
       "      <th>0</th>\n",
       "      <td>5575-GNVDE</td>\n",
       "      <td>No</td>\n",
       "    </tr>\n",
       "    <tr>\n",
       "      <th>1</th>\n",
       "      <td>3668-QPYBK</td>\n",
       "      <td>No</td>\n",
       "    </tr>\n",
       "    <tr>\n",
       "      <th>2</th>\n",
       "      <td>9237-HQITU</td>\n",
       "      <td>No</td>\n",
       "    </tr>\n",
       "    <tr>\n",
       "      <th>3</th>\n",
       "      <td>9305-CDSKC</td>\n",
       "      <td>Yes</td>\n",
       "    </tr>\n",
       "    <tr>\n",
       "      <th>4</th>\n",
       "      <td>1452-KIOVK</td>\n",
       "      <td>Yes</td>\n",
       "    </tr>\n",
       "  </tbody>\n",
       "</table>\n",
       "</div>"
      ],
      "text/plain": [
       "   customerID MultipleLines\n",
       "0  5575-GNVDE            No\n",
       "1  3668-QPYBK            No\n",
       "2  9237-HQITU            No\n",
       "3  9305-CDSKC           Yes\n",
       "4  1452-KIOVK           Yes"
      ]
     },
     "metadata": {},
     "output_type": "display_data"
    },
    {
     "name": "stdout",
     "output_type": "stream",
     "text": [
      "\n",
      "---------------------------------------------\n"
     ]
    }
   ],
   "source": [
    "# A dict of datasets to easily print initial info \n",
    "\n",
    "datasets = {\n",
    "    'contract_df': contract_df,\n",
    "    'personal_df': personal_df,\n",
    "    'internet_df': internet_df,\n",
    "    'phone_df': phone_df\n",
    "}\n",
    "\n",
    "for name, dataset in datasets.items():\n",
    "    print(f\"Dataset: {name}\\n\")\n",
    "    dataset.info()\n",
    "    display(dataset.head())\n",
    "    print(\"\\n---------------------------------------------\")"
   ]
  },
  {
   "cell_type": "markdown",
   "id": "0c2f3ea5",
   "metadata": {},
   "source": [
    "### Notes on the Datasets"
   ]
  },
  {
   "cell_type": "markdown",
   "id": "9427c14d",
   "metadata": {},
   "source": [
    "1) Contract Database\n",
    "    - There are no missing values\n",
    "    - Pre-processing\n",
    "        - Change column names to underscored-lowercase names\n",
    "        - Check for duplicates in the dataset\n",
    "        - Change the BeginDate column to datetime\n",
    "        - Change TotalCharges to a float64 value type\n",
    "        \n",
    "    - Feature Engineering\n",
    "        - Feature engineer columns for `date`, `month`, `year` from the `BeginDate` and `EndDate` columns\n",
    "        - Create a new column based on EndDate to say if customer has left or not left the service\n",
    "        - Check seasonality for BeginDate column (month, day of the week, hour)\n",
    "        - One hot encode the PaymentMethod, PaperlessBilling, and Type columns.\n"
   ]
  },
  {
   "cell_type": "markdown",
   "id": "cd09dacd",
   "metadata": {},
   "source": [
    "2) Personal Database\n",
    "    - There are no missing values\n",
    "    - Preprocessing:\n",
    "        - Change column names to underscore lowercase\n",
    "        - Check for duplicates in the dataset\n",
    "\n",
    "    - Feature Engineering:\n",
    "        - One hot encode the gender, Partner, and Dependents columns"
   ]
  },
  {
   "cell_type": "markdown",
   "id": "a0b12dfc",
   "metadata": {},
   "source": [
    "3) Internet Database\n",
    "    - There are no missing values\n",
    "    - There are 1526 fewer customer ID's then internet and personal DFs. \n",
    "        - This discrepancy may be explained by the fact that they did not subscribe to any internet service.\n",
    "        \n",
    "    - Preprocessing:\n",
    "        - Change column names to underscore lowercase\n",
    "        - Check for duplicates in the dataset\n",
    "\n",
    "    - Feature Engineering:\n",
    "        - One hot encode all columns except for customer ID."
   ]
  },
  {
   "cell_type": "markdown",
   "id": "f564532e",
   "metadata": {},
   "source": [
    "4) Phone Database\n",
    "    - There are no missing values\n",
    "    - There are 682 fewer customer ID's then internet and personal DFs. \n",
    "        - This discrepancy may be explained by the fact that they did not subscribe to any phone service.\n",
    "        \n",
    "    - Preprocessing:\n",
    "        - Change column names to underscore lowercase\n",
    "        - Check for duplicates in the dataset\n",
    "\n",
    "    - Feature Engineering:\n",
    "        - One hot encode the MultipleLines column"
   ]
  },
  {
   "cell_type": "markdown",
   "id": "2947570d",
   "metadata": {},
   "source": [
    "## Proposed Work Plan"
   ]
  },
  {
   "cell_type": "markdown",
   "id": "ac34cd6b",
   "metadata": {},
   "source": [
    "**Goal:** Develop a model to predict user churn\n",
    "\n",
    "Steps:\n",
    "1. Download the dataset.\n",
    "2. Explore the dataset to determine the appropriate preprocessing methods.\n",
    "3. Preprocess the data:\n",
    "    - Consolidate all dataframes into a single main dataframe.\n",
    "    - Standardize column names to underscore-lowercase format.\n",
    "    - Convert columns to the required data types.\n",
    "4. Conduct an in-depth exploratory data analysis (EDA).\n",
    "5. Perform feature engineering.\n",
    "6. Perform model training and evaluation\n",
    "    - Test various classification models against a dummy baseline, using Logistic Regression as a starting point.\n",
    "    - Evaluate models using ROC-AUC and accuracy scores. \n",
    "    - Fine-tune models with cross-validation, incorporatinggradient boosting techniques.\n",
    "7. Assess the final model on the test set.\n",
    "8. Write the conclusion."
   ]
  },
  {
   "cell_type": "code",
   "execution_count": null,
   "id": "a61b1a97",
   "metadata": {},
   "outputs": [],
   "source": []
  }
 ],
 "metadata": {
  "ExecuteTimeLog": [
   {
    "duration": 4925,
    "start_time": "2024-08-11T14:33:06.843Z"
   },
   {
    "duration": 42,
    "start_time": "2024-08-11T14:34:57.521Z"
   },
   {
    "duration": 75,
    "start_time": "2024-08-11T14:36:38.103Z"
   },
   {
    "duration": 25,
    "start_time": "2024-08-11T14:36:47.621Z"
   },
   {
    "duration": 3,
    "start_time": "2024-08-11T14:44:07.029Z"
   },
   {
    "duration": 43,
    "start_time": "2024-08-11T14:46:24.385Z"
   },
   {
    "duration": 40,
    "start_time": "2024-08-11T14:46:38.322Z"
   },
   {
    "duration": 41,
    "start_time": "2024-08-11T14:46:44.339Z"
   },
   {
    "duration": 40,
    "start_time": "2024-08-11T14:47:29.690Z"
   },
   {
    "duration": 42,
    "start_time": "2024-08-11T14:47:41.600Z"
   },
   {
    "duration": 405,
    "start_time": "2024-08-11T15:00:21.037Z"
   },
   {
    "duration": 10,
    "start_time": "2024-08-11T15:00:28.777Z"
   },
   {
    "duration": 41,
    "start_time": "2024-08-11T15:04:49.809Z"
   },
   {
    "duration": 42,
    "start_time": "2024-08-11T15:05:02.204Z"
   },
   {
    "duration": 60,
    "start_time": "2024-08-11T15:05:11.641Z"
   },
   {
    "duration": 51,
    "start_time": "2024-08-11T15:05:26.713Z"
   },
   {
    "duration": 4,
    "start_time": "2024-08-11T15:05:50.672Z"
   },
   {
    "duration": 5,
    "start_time": "2024-08-11T15:05:59.952Z"
   },
   {
    "duration": 5,
    "start_time": "2024-08-11T15:06:06.261Z"
   },
   {
    "duration": 38,
    "start_time": "2024-08-11T15:06:09.184Z"
   },
   {
    "duration": 5,
    "start_time": "2024-08-11T15:06:11.766Z"
   },
   {
    "duration": 3,
    "start_time": "2024-08-11T15:06:15.193Z"
   },
   {
    "duration": 43,
    "start_time": "2024-08-11T15:06:15.471Z"
   },
   {
    "duration": 4,
    "start_time": "2024-08-11T15:06:16.378Z"
   },
   {
    "duration": 14,
    "start_time": "2024-08-11T15:06:49.368Z"
   },
   {
    "duration": 16,
    "start_time": "2024-08-11T15:07:18.022Z"
   },
   {
    "duration": 11,
    "start_time": "2024-08-11T15:07:54.268Z"
   },
   {
    "duration": 15,
    "start_time": "2024-08-11T15:08:06.993Z"
   },
   {
    "duration": 9,
    "start_time": "2024-08-11T15:08:26.936Z"
   },
   {
    "duration": 40,
    "start_time": "2024-08-11T15:08:44.576Z"
   },
   {
    "duration": 82,
    "start_time": "2024-08-11T15:11:01.894Z"
   },
   {
    "duration": 428,
    "start_time": "2024-08-11T15:23:24.699Z"
   },
   {
    "duration": 7,
    "start_time": "2024-08-11T15:24:18.280Z"
   },
   {
    "duration": 3,
    "start_time": "2024-08-11T15:24:57.480Z"
   }
  ],
  "kernelspec": {
   "display_name": "Python 3 (ipykernel)",
   "language": "python",
   "name": "python3"
  },
  "language_info": {
   "codemirror_mode": {
    "name": "ipython",
    "version": 3
   },
   "file_extension": ".py",
   "mimetype": "text/x-python",
   "name": "python",
   "nbconvert_exporter": "python",
   "pygments_lexer": "ipython3",
   "version": "3.9.19"
  },
  "toc": {
   "base_numbering": 1,
   "nav_menu": {},
   "number_sections": true,
   "sideBar": true,
   "skip_h1_title": true,
   "title_cell": "Table of Contents",
   "title_sidebar": "Contents",
   "toc_cell": false,
   "toc_position": {
    "height": "calc(100% - 180px)",
    "left": "10px",
    "top": "150px",
    "width": "287px"
   },
   "toc_section_display": true,
   "toc_window_display": true
  }
 },
 "nbformat": 4,
 "nbformat_minor": 5
}
